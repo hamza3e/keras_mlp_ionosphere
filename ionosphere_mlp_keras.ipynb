{
  "nbformat": 4,
  "nbformat_minor": 0,
  "metadata": {
    "colab": {
      "name": "ionosphere_mlp_keras.ipynb",
      "version": "0.3.2",
      "provenance": [],
      "include_colab_link": true
    },
    "kernelspec": {
      "name": "python3",
      "display_name": "Python 3"
    },
    "accelerator": "GPU"
  },
  "cells": [
    {
      "cell_type": "markdown",
      "metadata": {
        "id": "view-in-github",
        "colab_type": "text"
      },
      "source": [
        "<a href=\"https://colab.research.google.com/github/hamza3e/keras_mlp_ionosphere/blob/master/ionosphere_mlp_keras.ipynb\" target=\"_parent\"><img src=\"https://colab.research.google.com/assets/colab-badge.svg\" alt=\"Open In Colab\"/></a>"
      ]
    },
    {
      "metadata": {
        "id": "k5HCKlZzgKsR",
        "colab_type": "code",
        "colab": {}
      },
      "cell_type": "code",
      "source": [
        "!pip install -q keras"
      ],
      "execution_count": 0,
      "outputs": []
    },
    {
      "metadata": {
        "id": "Ms5d7TGAghOM",
        "colab_type": "code",
        "colab": {}
      },
      "cell_type": "code",
      "source": [
        "!wget https://archive.ics.uci.edu/ml/machine-learning-databases/ionosphere/ionosphere.data"
      ],
      "execution_count": 0,
      "outputs": []
    },
    {
      "metadata": {
        "id": "sVy28KmJgVP-",
        "colab_type": "code",
        "colab": {}
      },
      "cell_type": "code",
      "source": [
        "import numpy as np\n",
        "import pandas as pd\n",
        "\n",
        "dataset = pd.read_csv(\"ionosphere.data\", header=None)\n",
        "X = dataset.values[0:350,0:34]\n",
        "labels = dataset.values[0:350,34]\n",
        "Y = np.zeros(labels.shape)\n",
        "Y[labels=='g'] = 1\n",
        "Y[labels=='b'] = 0\n",
        "print(Y)"
      ],
      "execution_count": 0,
      "outputs": []
    },
    {
      "metadata": {
        "id": "h6n4rzmxghy7",
        "colab_type": "code",
        "colab": {}
      },
      "cell_type": "code",
      "source": [
        "from keras import optimizers\n",
        "from keras.models import Sequential\n",
        "from keras.layers import Dense\n",
        "from sklearn.metrics import classification_report\n",
        "from sklearn.metrics import confusion_matrix\n",
        "from sklearn.model_selection import KFold\n",
        "import numpy as np\n",
        "# fix random seed for reproducibility\n",
        "seed =7\n",
        "np.random.seed(seed)"
      ],
      "execution_count": 0,
      "outputs": []
    },
    {
      "metadata": {
        "id": "dHryipDCgoAX",
        "colab_type": "code",
        "colab": {}
      },
      "cell_type": "code",
      "source": [
        "kf = KFold(n_splits=10, random_state=None, shuffle=True)\n",
        "kf.get_n_splits(X)\n",
        "cvscores = []\n",
        "cvsensitivity = []\n",
        "cvspecificity = []\n",
        "\n",
        "\n",
        "print(kf) "
      ],
      "execution_count": 0,
      "outputs": []
    },
    {
      "metadata": {
        "id": "HUMWrojhgxjk",
        "colab_type": "code",
        "colab": {}
      },
      "cell_type": "code",
      "source": [
        "model = Sequential()\n",
        "model.add(Dense(80, input_dim=34, activation='sigmoid'))\n",
        "model.add(Dense(10, activation='relu'))\n",
        "model.add(Dense(1, activation='sigmoid'))\n",
        "sgd = optimizers.SGD(lr=0.1, momentum=0.91, decay=0.0, nesterov=False)\n",
        "model.compile(loss='mean_squared_error', optimizer=sgd, metrics=['accuracy'])"
      ],
      "execution_count": 0,
      "outputs": []
    },
    {
      "metadata": {
        "id": "Flngk238g2b3",
        "colab_type": "code",
        "colab": {}
      },
      "cell_type": "code",
      "source": [
        "for train, test in kf.split(X):\n",
        "\n",
        "  model.fit(X[train], Y[train], epochs=10, batch_size=35, verbose=0)\n",
        "\t# evaluate the model\n",
        "\n",
        "  scores = model.evaluate(X[test], Y[test], verbose=0)\n",
        "  \n",
        "  y_test = Y[test]\n",
        "  y_pred = model.predict_classes(X[test])\n",
        "  tn, fp, fn, tp = confusion_matrix(y_test, y_pred).ravel()\n",
        "  specificity = tn / (tn+fp)\n",
        "  sensitivity = tp / (tp+fn)\n",
        "  print(\" specificity: %.2f%% \\n sensitivity: %.2f%%\" % (specificity*100, sensitivity*100))\n",
        "  \n",
        "  cvsensitivity.append(sensitivity * 100)\n",
        "  cvspecificity.append(specificity * 100)\n",
        "  \n",
        "  print(\"%s: %.2f%%\" % (model.metrics_names[1], scores[1]*100))\n",
        "\n",
        "  cvscores.append(scores[1] * 100)\n",
        "  \n",
        "  \n",
        "print(\"Mean of acc: %.2f%% (+/- %.2f%%) \" % (np.mean(cvscores), np.std(cvscores)))\n",
        "\n",
        "print(\"Mean of sen: %.2f%% (+/- %.2f%%) \" % (np.mean(cvsensitivity), np.std(cvsensitivity)))\n",
        "print(\"Mean of spe: %.2f%% (+/- %.2f%%) \" % (np.mean(cvsensitivity), np.std(cvspecificity)))\n",
        "\n",
        "from keras.backend import clear_session\n",
        "clear_session()\n",
        "cvscores.clear()\n",
        "cvsensitivity.clear()\n",
        "cvspecificity.clear()"
      ],
      "execution_count": 0,
      "outputs": []
    },
    {
      "metadata": {
        "id": "OOYa7uBLDozW",
        "colab_type": "code",
        "colab": {}
      },
      "cell_type": "code",
      "source": [
        "\n",
        "from keras.backend import clear_session\n",
        "clear_session()"
      ],
      "execution_count": 0,
      "outputs": []
    }
  ]
}